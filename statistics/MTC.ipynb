{
  "nbformat": 4,
  "nbformat_minor": 0,
  "metadata": {
    "colab": {
      "provenance": [],
      "collapsed_sections": [
        "od-CAZv6DQX0",
        "BWAP0kE9DVnM",
        "_5IPvaZqvo2b",
        "ErlXItkH9spb",
        "cTJKQQj7vs5n",
        "qDZEqDNB9gqG",
        "oHq6YDmOxEXw",
        "-UIKVB9dt3WE",
        "m_YfUncgQIuO",
        "M4eR1KBi8dY5"
      ],
      "authorship_tag": "ABX9TyNTBst3Ntvh3BQ9t2XRpuP4",
      "include_colab_link": true
    },
    "kernelspec": {
      "name": "python3",
      "display_name": "Python 3"
    },
    "language_info": {
      "name": "python"
    }
  },
  "cells": [
    {
      "cell_type": "markdown",
      "metadata": {
        "id": "view-in-github",
        "colab_type": "text"
      },
      "source": [
        "<a href=\"https://colab.research.google.com/github/JesusMedinaGomez/think-in-math/blob/main/statistics/MTC.ipynb\" target=\"_parent\"><img src=\"https://colab.research.google.com/assets/colab-badge.svg\" alt=\"Open In Colab\"/></a>"
      ]
    },
    {
      "cell_type": "markdown",
      "source": [
        "# **Medidas de tendencia central**\n",
        "\n"
      ],
      "metadata": {
        "id": "x5MfCy74eIwL"
      }
    },
    {
      "cell_type": "markdown",
      "source": [
        "Las **medidas de tendencia central** son herramientas estadísticas que permiten identificar el valor alrededor del cual se agrupan o tienden a concentrarse los datos de un conjunto. En otras palabras, indican el \"centro\" o el comportamiento típico de los datos. No hay una única forma de medir dicha tendencia, y las tres más conocidas son la **media**, la **mediana** y la **moda**."
      ],
      "metadata": {
        "id": "BxZaZigutCuM"
      }
    },
    {
      "cell_type": "markdown",
      "source": [
        "## **previos**"
      ],
      "metadata": {
        "id": "od-CAZv6DQX0"
      }
    },
    {
      "cell_type": "markdown",
      "source": [
        "### Librerías"
      ],
      "metadata": {
        "id": "BWAP0kE9DVnM"
      }
    },
    {
      "cell_type": "code",
      "source": [
        "import numpy as np\n",
        "import matplotlib.pyplot as plt"
      ],
      "metadata": {
        "id": "h4Vymvv3m1eR"
      },
      "execution_count": 1777,
      "outputs": []
    },
    {
      "cell_type": "markdown",
      "source": [
        "### Funciones a usar"
      ],
      "metadata": {
        "id": "2VJTL9qTDXDt"
      }
    },
    {
      "cell_type": "code",
      "source": [
        "def graficar(x, medida):\n",
        "  fig, ax = plt.subplots(figsize=(14, 1))\n",
        "  ax.hlines(0, min(x)-1, max(x)+1, 'k')\n",
        "\n",
        "  for xi in x:\n",
        "      ax.plot(xi, 0, 'o', color='blue')\n",
        "      ax.text(xi, 1, str(xi), ha='center', fontsize=10)\n",
        "\n",
        "  ax.axvline(medida, color='red', ls='--', label=f'Medida = {medida:.2f}')\n",
        "  ax.set(ylim=(-0.5,0.5), yticks=[])\n",
        "  ax.set_xticks(range(int(min(x))-1, int(max(x))+2))\n",
        "  ax.set(xlabel=\"Recta numérica\", title=\"Representación de los datos en la recta numérica\")\n",
        "  ax.grid(True, axis='x', ls='--', alpha=0.5)\n",
        "  plt.show()"
      ],
      "metadata": {
        "id": "iAjPLuoJCmqJ"
      },
      "execution_count": 1778,
      "outputs": []
    },
    {
      "cell_type": "markdown",
      "source": [
        "## **Media**\n",
        "\n"
      ],
      "metadata": {
        "id": "49gqmqVNioGq"
      }
    },
    {
      "cell_type": "markdown",
      "source": [
        "La **media aritmética**, también conocida como **promedio**, es una medida de tendencia central que resume un conjunto de datos numéricos mediante un solo valor representativo. Sea $x=(x_1, x_2, \\dots, x_n)$ una muestra finita de datos reales, es decir, $x_i \\in \\mathbb{R}$ para todo $i = 1, \\dots, n$. La media aritmética se calcula con la fórmula:\n",
        "\n",
        "$$\n",
        "\\bar{x} = \\frac{1}{n} \\sum_{i=1}^{n} x_i\n",
        "$$\n",
        "\n",
        "donde $n$ es el tamaño de la muestra. Esta medida es útil para describir el comportamiento general de los datos, especialmente cuando no existen valores atípicos que distorsionen su interpretación.\n",
        "\n"
      ],
      "metadata": {
        "id": "kyYmA9R5i2E2"
      }
    },
    {
      "cell_type": "markdown",
      "source": [
        "### Algoritmo"
      ],
      "metadata": {
        "id": "_5IPvaZqvo2b"
      }
    },
    {
      "cell_type": "code",
      "source": [
        "def media(x):\n",
        "  n = len(x)\n",
        "  suma = 0\n",
        "\n",
        "  for i in range(0, n):\n",
        "    suma += x[i]\n",
        "  return suma / n"
      ],
      "metadata": {
        "id": "4DwQEDv4u7Kb"
      },
      "execution_count": 1779,
      "outputs": []
    },
    {
      "cell_type": "markdown",
      "source": [
        "### Ventajas y desventajas"
      ],
      "metadata": {
        "id": "ErlXItkH9spb"
      }
    },
    {
      "cell_type": "markdown",
      "source": [
        "- Utiliza **todos los valores del conjunto de datos**, lo que proporciona una visión completa.\n",
        "- Es **fácil de calcular**.\n",
        "- Es muy útil cuando los datos tienen una **distribución simétrica o normal**.\n",
        "\n",
        "**Desventajas:**\n",
        "- Es **muy sensible a valores extremos** (outliers), lo que puede distorsionar su resultado.\n",
        "- En distribuciones sesgadas, **puede no representar adecuadamente el centro** de los datos."
      ],
      "metadata": {
        "id": "uSDqgifW9tlL"
      }
    },
    {
      "cell_type": "markdown",
      "source": [
        "### Ejemplo\n",
        "\n",
        "\n"
      ],
      "metadata": {
        "id": "c4Lh_jKbkbou"
      }
    },
    {
      "cell_type": "markdown",
      "source": [
        "Dada la muestra\n",
        "$$\n",
        "x = (8.8,8.9,9,9,9.01,8.7,8.85,8.92)\n",
        "$$"
      ],
      "metadata": {
        "id": "AWh3jbywqGuV"
      }
    },
    {
      "cell_type": "code",
      "execution_count": 1780,
      "metadata": {
        "id": "R-LJ4lJ6eF4w"
      },
      "outputs": [],
      "source": [
        "x = [8.8,8.9,9,9,9.01,8.7,8.85,8.92]"
      ]
    },
    {
      "cell_type": "markdown",
      "source": [
        "Entonces $n=8$"
      ],
      "metadata": {
        "id": "DEsIWgz2lsXG"
      }
    },
    {
      "cell_type": "code",
      "source": [
        "n = len(x)"
      ],
      "metadata": {
        "id": "hnZSfjASluw6"
      },
      "execution_count": 1781,
      "outputs": []
    },
    {
      "cell_type": "markdown",
      "source": [
        "y su media está dada por\n",
        "$$\n",
        "\\bar{x} = \\frac{1}{8} \\sum_{i=1}^{8} x_i = \\frac{8.8+8.9+9+9+9.01+8.7+8.85+8.92}{8}\n",
        "$$"
      ],
      "metadata": {
        "id": "ROCxGLkXlETy"
      }
    },
    {
      "cell_type": "code",
      "source": [
        "promedio = media(x)\n",
        "promedio"
      ],
      "metadata": {
        "colab": {
          "base_uri": "https://localhost:8080/"
        },
        "id": "15AlV4rllLOL",
        "outputId": "2b48a981-8b0f-44ac-fa92-f4d2463fd642"
      },
      "execution_count": 1782,
      "outputs": [
        {
          "output_type": "execute_result",
          "data": {
            "text/plain": [
              "8.897499999999999"
            ]
          },
          "metadata": {},
          "execution_count": 1782
        }
      ]
    },
    {
      "cell_type": "markdown",
      "source": [
        "Esto quiere decir que los datos de la muestra están centrados alrededor de 8.89"
      ],
      "metadata": {
        "id": "JiikhJIvi135"
      }
    },
    {
      "cell_type": "code",
      "source": [
        "graficar(x, promedio)"
      ],
      "metadata": {
        "colab": {
          "base_uri": "https://localhost:8080/",
          "height": 206
        },
        "id": "5L9lNlX_C7QQ",
        "outputId": "1454b2d4-9e2b-4f91-883a-966e0a865bec"
      },
      "execution_count": 1783,
      "outputs": [
        {
          "output_type": "display_data",
          "data": {
            "text/plain": [
              "<Figure size 1400x100 with 1 Axes>"
            ],
            "image/png": "[encoded data removed]"
          },
          "metadata": {}
        }
      ]
    },
    {
      "cell_type": "markdown",
      "source": [
        "### Ejemplo (Situación adversa)"
      ],
      "metadata": {
        "id": "Eo2aQoicAUwo"
      }
    },
    {
      "cell_type": "markdown",
      "source": [
        "La media suele ser muy sensible con **valores atípicos**, es decir, que estan muy alejados de el entorno en el que se encuentran la mayora de valores. Esto podemos observarlo si al conjunto de datos anterior, cambiamos el $8.92$ por $25$\n",
        "$$\n",
        "8.8,8.9,9,9,9.01,8.7,8.85,25\n",
        "$$\n"
      ],
      "metadata": {
        "id": "ENFC7_DcAY59"
      }
    },
    {
      "cell_type": "code",
      "source": [
        "x[len(x)-1] = 25\n",
        "x"
      ],
      "metadata": {
        "colab": {
          "base_uri": "https://localhost:8080/"
        },
        "id": "zqtMPGFpBnwx",
        "outputId": "2b27ab1e-b942-487f-80fc-bc721328131e"
      },
      "execution_count": 1784,
      "outputs": [
        {
          "output_type": "execute_result",
          "data": {
            "text/plain": [
              "[8.8, 8.9, 9, 9, 9.01, 8.7, 8.85, 25]"
            ]
          },
          "metadata": {},
          "execution_count": 1784
        }
      ]
    },
    {
      "cell_type": "markdown",
      "source": [
        "Entonces la media sería de 10.90"
      ],
      "metadata": {
        "id": "2UjMqRw8CFvw"
      }
    },
    {
      "cell_type": "code",
      "source": [
        "promedio = media(x)\n",
        "promedio"
      ],
      "metadata": {
        "colab": {
          "base_uri": "https://localhost:8080/"
        },
        "id": "cwqPiuE2Budc",
        "outputId": "a6c0c162-c0a5-4a94-a9b5-f2623b9e18dd"
      },
      "execution_count": 1785,
      "outputs": [
        {
          "output_type": "execute_result",
          "data": {
            "text/plain": [
              "10.907499999999999"
            ]
          },
          "metadata": {},
          "execution_count": 1785
        }
      ]
    },
    {
      "cell_type": "markdown",
      "source": [
        "Dicho valor se ha movido casi 2 unidades, cuando únicamente modificamos un valor. Y si lo graficamos nuevamente"
      ],
      "metadata": {
        "id": "VnNN0k41CJQ8"
      }
    },
    {
      "cell_type": "code",
      "source": [
        "graficar(x, promedio)"
      ],
      "metadata": {
        "colab": {
          "base_uri": "https://localhost:8080/",
          "height": 206
        },
        "id": "iyKZU8ycMDq4",
        "outputId": "b7fa5d71-9ada-476b-c978-0a3a01abb33a"
      },
      "execution_count": 1786,
      "outputs": [
        {
          "output_type": "display_data",
          "data": {
            "text/plain": [
              "<Figure size 1400x100 with 1 Axes>"
            ],
            "image/png": "[encoded data removed]"
          },
          "metadata": {}
        }
      ]
    },
    {
      "cell_type": "markdown",
      "source": [
        "podremos notar que la media ya nisiquiera parece estar ubicada al centro de los datos."
      ],
      "metadata": {
        "id": "hibMXk63MKfy"
      }
    },
    {
      "cell_type": "markdown",
      "source": [
        "## **Mediana**"
      ],
      "metadata": {
        "id": "8nLSXGg8n8Qq"
      }
    },
    {
      "cell_type": "markdown",
      "source": [
        "La **mediana** es una medida de tendencia central utilizada para datos numéricos. Se obtiene ordenando los datos de menor a mayor y seleccionando el valor que queda exactamente en el centro de la lista ordenada. Si la cantidad de datos es par, la mediana se calcula como el promedio de los dos valores centrales."
      ],
      "metadata": {
        "id": "23r1rcmWn9pU"
      }
    },
    {
      "cell_type": "markdown",
      "source": [
        "### Algoritmo"
      ],
      "metadata": {
        "id": "cTJKQQj7vs5n"
      }
    },
    {
      "cell_type": "code",
      "source": [
        "def mediana(x):\n",
        "    n = len(x)\n",
        "\n",
        "    # Si la cantidad de datos es impar, se devuelve el valor central\n",
        "    if n % 2 != 0:\n",
        "        mediana = x[n // 2]\n",
        "    else:\n",
        "        # Si es par, se promedian los dos valores centrales usando la función 'media'\n",
        "        nums_centrales = [x[n // 2 - 1], x[n // 2]]\n",
        "        mediana = media(nums_centrales)\n",
        "\n",
        "    return mediana"
      ],
      "metadata": {
        "id": "HmtWxbaUvyGz"
      },
      "execution_count": 1787,
      "outputs": []
    },
    {
      "cell_type": "markdown",
      "source": [
        "### Ejemplo\n"
      ],
      "metadata": {
        "id": "6-YeI21DoQ-a"
      }
    },
    {
      "cell_type": "markdown",
      "source": [
        "\n",
        "Se tiene una muestra\n",
        "$$\n",
        "x = ( 0,1,3,5,10,8,21,3.5,4 )\n",
        "$$"
      ],
      "metadata": {
        "id": "DOYhiOCEqC0W"
      }
    },
    {
      "cell_type": "code",
      "source": [
        "x = [0,1,3,5,10,8,21,3.5,4]"
      ],
      "metadata": {
        "id": "7r1o1sUloqQb"
      },
      "execution_count": 1788,
      "outputs": []
    },
    {
      "cell_type": "markdown",
      "source": [
        "Para obtener la mediana de $x$ ordenamos sus datos de menor a mayor:\n",
        "$$\n",
        "0,  1,  3,  3,  4,  5,  8, 10, 21\n",
        "$$"
      ],
      "metadata": {
        "id": "fQM4Xbjiox3J"
      }
    },
    {
      "cell_type": "code",
      "source": [
        "x_sort = np.sort(x)\n",
        "x_sort"
      ],
      "metadata": {
        "colab": {
          "base_uri": "https://localhost:8080/"
        },
        "id": "KZgN7Sdio-rQ",
        "outputId": "61c2258c-fd9d-4364-bda1-ae60cbf6e55c"
      },
      "execution_count": 1789,
      "outputs": [
        {
          "output_type": "execute_result",
          "data": {
            "text/plain": [
              "array([ 0. ,  1. ,  3. ,  3.5,  4. ,  5. ,  8. , 10. , 21. ])"
            ]
          },
          "metadata": {},
          "execution_count": 1789
        }
      ]
    },
    {
      "cell_type": "markdown",
      "source": [
        "Podemos observar que 4 es el número que queda justo en el centro de los datos, pues a su izquierda hay 4 números (menores) y a su derecha también hay 4 (mayores)."
      ],
      "metadata": {
        "id": "CE8PbeLxpODU"
      }
    },
    {
      "cell_type": "code",
      "source": [
        "x_med = mediana(x_sort)\n",
        "int(x_med)"
      ],
      "metadata": {
        "colab": {
          "base_uri": "https://localhost:8080/"
        },
        "id": "J8pYwYVnpgSZ",
        "outputId": "b9ed71c7-855b-4024-d170-1c4177efaff8"
      },
      "execution_count": 1790,
      "outputs": [
        {
          "output_type": "execute_result",
          "data": {
            "text/plain": [
              "4"
            ]
          },
          "metadata": {},
          "execution_count": 1790
        }
      ]
    },
    {
      "cell_type": "markdown",
      "source": [
        "Visualizamos la mediana con respecto a los datos"
      ],
      "metadata": {
        "id": "y1f274aJs3op"
      }
    },
    {
      "cell_type": "code",
      "source": [
        "graficar(x, x_med)\n"
      ],
      "metadata": {
        "colab": {
          "base_uri": "https://localhost:8080/",
          "height": 206
        },
        "id": "TdCdl1CIqkKz",
        "outputId": "b9f5c20c-18da-4d8f-ae60-a6f54024d4e7"
      },
      "execution_count": 1791,
      "outputs": [
        {
          "output_type": "display_data",
          "data": {
            "text/plain": [
              "<Figure size 1400x100 with 1 Axes>"
            ],
            "image/png": "[encoded data removed]"
          },
          "metadata": {}
        }
      ]
    },
    {
      "cell_type": "markdown",
      "source": [
        "### Ejemplo"
      ],
      "metadata": {
        "id": "RkgVDumFqK5x"
      }
    },
    {
      "cell_type": "markdown",
      "source": [
        "Se tiene la muestra\n",
        "$$\n",
        "x = (1,5,0,2,4,5.1)\n",
        "$$"
      ],
      "metadata": {
        "id": "6W6BIEpAqNM5"
      }
    },
    {
      "cell_type": "code",
      "source": [
        "x = [1,5,0,2,4,5.1]"
      ],
      "metadata": {
        "id": "5IyGkCzkqYmN"
      },
      "execution_count": 1792,
      "outputs": []
    },
    {
      "cell_type": "markdown",
      "source": [
        "La ordenamos y se tiene\n",
        "$$\n",
        "0, 1, 2, 4, 5, 5\n",
        "$$"
      ],
      "metadata": {
        "id": "2nETWGzKq1N1"
      }
    },
    {
      "cell_type": "code",
      "source": [
        "x_sort = np.sort(x)\n",
        "x_sort"
      ],
      "metadata": {
        "colab": {
          "base_uri": "https://localhost:8080/"
        },
        "id": "m6dJbihoq3ne",
        "outputId": "494cfc1e-aed0-4a87-a91c-81cd34da47cc"
      },
      "execution_count": 1793,
      "outputs": [
        {
          "output_type": "execute_result",
          "data": {
            "text/plain": [
              "array([0. , 1. , 2. , 4. , 5. , 5.1])"
            ]
          },
          "metadata": {},
          "execution_count": 1793
        }
      ]
    },
    {
      "cell_type": "markdown",
      "source": [
        "En este caso, $ |x| $ es par, por lo que no existe un único dato central. En su lugar, tomamos los dos valores que se encuentran en el centro —que son 2 y 4, ya que a ambos lados hay la misma cantidad de datos— y calculamos su media. Esta media, que es 3, será la mediana, aunque dicho valor no esté presente en la muestra original.\n"
      ],
      "metadata": {
        "id": "Tse8XQFnqaUO"
      }
    },
    {
      "cell_type": "code",
      "source": [
        "med = mediana(x_sort)\n",
        "int(med)"
      ],
      "metadata": {
        "id": "_ajtMf6RrkQ4",
        "colab": {
          "base_uri": "https://localhost:8080/"
        },
        "outputId": "adc8e5ed-2d75-46c7-a3b2-f6c2a1714355"
      },
      "execution_count": 1794,
      "outputs": [
        {
          "output_type": "execute_result",
          "data": {
            "text/plain": [
              "3"
            ]
          },
          "metadata": {},
          "execution_count": 1794
        }
      ]
    },
    {
      "cell_type": "markdown",
      "source": [
        "Si visualizamos la mediana con respecto a los datos"
      ],
      "metadata": {
        "id": "1swogQz0syph"
      }
    },
    {
      "cell_type": "code",
      "source": [
        "graficar(x, med)\n"
      ],
      "metadata": {
        "colab": {
          "base_uri": "https://localhost:8080/",
          "height": 206
        },
        "id": "NhTv3tKRsvC6",
        "outputId": "49ee9cd3-d8bb-4415-f4fc-2fcc8d88135a"
      },
      "execution_count": 1795,
      "outputs": [
        {
          "output_type": "display_data",
          "data": {
            "text/plain": [
              "<Figure size 1400x100 with 1 Axes>"
            ],
            "image/png": "[encoded data removed]"
          },
          "metadata": {}
        }
      ]
    },
    {
      "cell_type": "markdown",
      "source": [
        "Ejemplo con valor atípico"
      ],
      "metadata": {
        "id": "WBDkXQrnLadI"
      }
    },
    {
      "cell_type": "markdown",
      "source": [
        "Si al ejemplo anterior le agregamos un **valor atípico**, por cambiando $5.1$ por $30$\n",
        "$$\n",
        "x = (1,5,0,2,4,30)\n",
        "$$"
      ],
      "metadata": {
        "id": "MnaYGaYWEfrh"
      }
    },
    {
      "cell_type": "code",
      "source": [
        "x[len(x)-1] = 30\n",
        "x"
      ],
      "metadata": {
        "colab": {
          "base_uri": "https://localhost:8080/"
        },
        "id": "hlBaKY3REzyw",
        "outputId": "1130a91a-b4ee-4ad9-8d65-401b18f291d6"
      },
      "execution_count": 1796,
      "outputs": [
        {
          "output_type": "execute_result",
          "data": {
            "text/plain": [
              "[1, 5, 0, 2, 4, 30]"
            ]
          },
          "metadata": {},
          "execution_count": 1796
        }
      ]
    },
    {
      "cell_type": "markdown",
      "source": [
        "Ordenamos"
      ],
      "metadata": {
        "id": "uFcdiQQAEvMu"
      }
    },
    {
      "cell_type": "code",
      "source": [
        "x_sort = np.sort(x)\n",
        "x_sort"
      ],
      "metadata": {
        "colab": {
          "base_uri": "https://localhost:8080/"
        },
        "id": "TGTxx3BZEwbP",
        "outputId": "f22fc09c-1b92-4622-cafa-eea80a639ec6"
      },
      "execution_count": 1797,
      "outputs": [
        {
          "output_type": "execute_result",
          "data": {
            "text/plain": [
              "array([ 0,  1,  2,  4,  5, 30])"
            ]
          },
          "metadata": {},
          "execution_count": 1797
        }
      ]
    },
    {
      "cell_type": "markdown",
      "source": [
        "Calculamos la mediana"
      ],
      "metadata": {
        "id": "w_CDD-5zE4-b"
      }
    },
    {
      "cell_type": "code",
      "source": [
        "med = mediana(x_sort)\n",
        "int(med)"
      ],
      "metadata": {
        "colab": {
          "base_uri": "https://localhost:8080/"
        },
        "id": "Y6b8a8zRE6lz",
        "outputId": "246c36c7-359d-44b2-cc52-2762d2f11ac8"
      },
      "execution_count": 1798,
      "outputs": [
        {
          "output_type": "execute_result",
          "data": {
            "text/plain": [
              "3"
            ]
          },
          "metadata": {},
          "execution_count": 1798
        }
      ]
    },
    {
      "cell_type": "markdown",
      "source": [
        "Sigue siendo exacatmente la misma mediana que en el caso anterior, apesar de haber movido uno de nuestros datos muy lejos del centro."
      ],
      "metadata": {
        "id": "i4nzhPN3FUHT"
      }
    },
    {
      "cell_type": "code",
      "source": [
        "graficar(x, med)"
      ],
      "metadata": {
        "colab": {
          "base_uri": "https://localhost:8080/",
          "height": 206
        },
        "id": "WYuCJit3FUn0",
        "outputId": "ffbc1929-65f7-48e7-9aae-ecb7b334784e"
      },
      "execution_count": 1799,
      "outputs": [
        {
          "output_type": "display_data",
          "data": {
            "text/plain": [
              "<Figure size 1400x100 with 1 Axes>"
            ],
            "image/png": "[encoded data removed]"
          },
          "metadata": {}
        }
      ]
    },
    {
      "cell_type": "markdown",
      "source": [
        "### Ventajas y desventajas"
      ],
      "metadata": {
        "id": "qDZEqDNB9gqG"
      }
    },
    {
      "cell_type": "markdown",
      "source": [
        "**Ventajas:**\n",
        "- **No se ve afectada por valores atípico** ni valores atípicos.\n",
        "- Representa mejor el centro de los datos cuando la distribución es **asimétrica**.\n",
        "- Se puede usar con **datos ordinales**, no solo numéricos.\n",
        "\n",
        "**Desventajas:**\n",
        "- **No utiliza todos los valores**, solo se basa en el orden.\n",
        "- Si los datos no están ordenados, calcularla puede requerir **ordenarlos primero**, lo que toma más tiempo.\n"
      ],
      "metadata": {
        "id": "noma5AYa9jBU"
      }
    },
    {
      "cell_type": "markdown",
      "source": [
        "## **Moda**"
      ],
      "metadata": {
        "id": "GQYktW7DtMfJ"
      }
    },
    {
      "cell_type": "markdown",
      "source": [
        "La **moda** es una medida de tendencia central que se puede aplicar tanto a datos cualitativos como cuantitativos. Consiste en identificar el valor o los valores que aparecen con mayor frecuencia en el conjunto de datos. Si un solo valor tiene la mayor frecuencia, ese es la moda; si varios valores comparten la misma frecuencia máxima, todos ellos se consideran modas. En ese caso, podemos entender la moda como un conjunto de valores y no como una sola cantidad numérica."
      ],
      "metadata": {
        "id": "P9TJxEHytN3p"
      }
    },
    {
      "cell_type": "markdown",
      "source": [
        "### Algoritmo"
      ],
      "metadata": {
        "id": "oHq6YDmOxEXw"
      }
    },
    {
      "cell_type": "code",
      "source": [
        "def moda(x):\n",
        "    if not x:\n",
        "        return None\n",
        "\n",
        "    # Contar frecuencias de cada dato\n",
        "    frecuencias = {}\n",
        "\n",
        "    for dato in x:\n",
        "        if dato in frecuencias:\n",
        "            frecuencias[dato] += 1\n",
        "        else:\n",
        "            frecuencias[dato] = 1\n",
        "\n",
        "    # Obtener la frecuencia máxima\n",
        "    max_frecuencia = max(frecuencias.values())\n",
        "\n",
        "    # Obtener todos los datos que tienen esa frecuencia máxima\n",
        "    modas = [dato for dato, f in frecuencias.items() if f == max_frecuencia]\n",
        "\n",
        "    # Si todos los datos son únicos, no hay moda\n",
        "    if len(modas) == len(frecuencias):\n",
        "        return []\n",
        "\n",
        "    return modas\n"
      ],
      "metadata": {
        "id": "Jpq4p7lUxGWk"
      },
      "execution_count": 1800,
      "outputs": []
    },
    {
      "cell_type": "markdown",
      "source": [
        "### Ejemplo"
      ],
      "metadata": {
        "id": "-UIKVB9dt3WE"
      }
    },
    {
      "cell_type": "markdown",
      "source": [
        "Dada la muestra\n",
        "$$\n",
        "x = (\\text{azul}, \\text{rojo}, \\text{verde},\\text{azul} )\n",
        "$$"
      ],
      "metadata": {
        "id": "jItUp8DKt5RH"
      }
    },
    {
      "cell_type": "code",
      "source": [
        "x = ['azul', 'rojo', 'verde', 'azul']"
      ],
      "metadata": {
        "id": "GrV6z5gquGAe"
      },
      "execution_count": 1801,
      "outputs": []
    },
    {
      "cell_type": "markdown",
      "source": [
        "Podemos observar que *azul* aparece 2 veces, a diferencia de *rojo* y *verde*, que solo aparecen una vez. Por lo tanto, la moda de esta muestra es *azul*."
      ],
      "metadata": {
        "id": "KBVgml9MuKqZ"
      }
    },
    {
      "cell_type": "code",
      "source": [
        "moda_x = moda(x)\n",
        "moda_x"
      ],
      "metadata": {
        "colab": {
          "base_uri": "https://localhost:8080/"
        },
        "id": "0Hh4IQqLuKbB",
        "outputId": "0e174811-d9e0-4013-a26d-d2f3fd30d8cd"
      },
      "execution_count": 1802,
      "outputs": [
        {
          "output_type": "execute_result",
          "data": {
            "text/plain": [
              "['azul']"
            ]
          },
          "metadata": {},
          "execution_count": 1802
        }
      ]
    },
    {
      "cell_type": "markdown",
      "source": [
        "### Ejemplo multimodal"
      ],
      "metadata": {
        "id": "k1bT2kARPX_g"
      }
    },
    {
      "cell_type": "markdown",
      "source": [
        "Se tiene la muestra\n",
        "$$\n",
        "x = (1, 2, 2, 3, 3)\n",
        "$$\n"
      ],
      "metadata": {
        "id": "Xy__ykc3Paft"
      }
    },
    {
      "cell_type": "code",
      "source": [
        "x = [1,2,2,3,3]"
      ],
      "metadata": {
        "id": "8dOsqeBrPqXl"
      },
      "execution_count": 1803,
      "outputs": []
    },
    {
      "cell_type": "markdown",
      "source": [
        "En ella podemos ver que $2$ y $3$ tiene ambas el máximo de repeticiones, por lo tanto ambas son consideradas la moda de $x$."
      ],
      "metadata": {
        "id": "xnEDQYTKP3OB"
      }
    },
    {
      "cell_type": "code",
      "source": [
        "moda_x = moda(x)\n",
        "moda_x"
      ],
      "metadata": {
        "colab": {
          "base_uri": "https://localhost:8080/"
        },
        "id": "dKDbqw4tPd56",
        "outputId": "8f675bff-9872-421e-a958-6679e99b5e57"
      },
      "execution_count": 1804,
      "outputs": [
        {
          "output_type": "execute_result",
          "data": {
            "text/plain": [
              "[2, 3]"
            ]
          },
          "metadata": {},
          "execution_count": 1804
        }
      ]
    },
    {
      "cell_type": "markdown",
      "source": [
        "### Ejemplo sin moda"
      ],
      "metadata": {
        "id": "m_YfUncgQIuO"
      }
    },
    {
      "cell_type": "markdown",
      "source": [
        "Dada la muestra\n",
        "$$\n",
        "x = (\\text{Guillermo},\\text{Juan},\\text{Pepe})\n",
        "$$"
      ],
      "metadata": {
        "id": "yA-WH07tQKll"
      }
    },
    {
      "cell_type": "code",
      "source": [
        "x = ['Guillermo', 'Juan', 'Pepe']"
      ],
      "metadata": {
        "id": "osYbpzJ8QUUr"
      },
      "execution_count": 1805,
      "outputs": []
    },
    {
      "cell_type": "markdown",
      "source": [
        "Podemos notar que ningún dato se repite, por lo tanto $x$ no tiene moda."
      ],
      "metadata": {
        "id": "jQ3qjVY4QYSg"
      }
    },
    {
      "cell_type": "code",
      "source": [
        "moda_x = moda(x)\n",
        "moda_x"
      ],
      "metadata": {
        "colab": {
          "base_uri": "https://localhost:8080/"
        },
        "id": "2iDBhJ5rQcT3",
        "outputId": "32cda9ae-1ecb-436f-a2a9-05839b9b30ab"
      },
      "execution_count": 1806,
      "outputs": [
        {
          "output_type": "execute_result",
          "data": {
            "text/plain": [
              "[]"
            ]
          },
          "metadata": {},
          "execution_count": 1806
        }
      ]
    },
    {
      "cell_type": "markdown",
      "source": [
        "### Ventajas y desventajas"
      ],
      "metadata": {
        "id": "M4eR1KBi8dY5"
      }
    },
    {
      "cell_type": "markdown",
      "source": [
        "\n",
        "**Ventajas:**\n",
        "- Es la única medida que se puede aplicar a **datos cualitativos** (como colores, nombres, categorías).\n",
        "- Es **fácil de interpretar**, ya que muestra el valor más frecuente.\n",
        "- Útil para detectar repeticiones o **patrones dominantes**.\n",
        "\n",
        "**Desventajas:**\n",
        "- Puede haber **más de una moda** (datos multimodales) o **ninguna**, lo que puede dificultar su interpretación.\n",
        "- **No siempre representa el centro** de los datos.\n",
        "- Es **poco útil** si los datos están muy dispersos o son todos diferentes."
      ],
      "metadata": {
        "id": "nvZy3SKo8gZP"
      }
    }
  ]
}